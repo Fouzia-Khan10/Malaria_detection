{
 "cells": [
  {
   "cell_type": "code",
   "execution_count": 2,
   "id": "c18fc2e5",
   "metadata": {},
   "outputs": [
    {
     "name": "stdout",
     "output_type": "stream",
     "text": [
      "WARNING:tensorflow:From C:\\Users\\hp\\anaconda3\\Lib\\site-packages\\keras\\src\\losses.py:2976: The name tf.losses.sparse_softmax_cross_entropy is deprecated. Please use tf.compat.v1.losses.sparse_softmax_cross_entropy instead.\n",
      "\n"
     ]
    }
   ],
   "source": [
    "import tensorflow as tf\n",
    "from tensorflow import keras\n",
    "from tensorflow.keras.preprocessing.image import ImageDataGenerator,img_to_array,load_img\n",
    "import numpy as np\n",
    "import matplotlib.pyplot as plt\n",
    "import os"
   ]
  },
  {
   "cell_type": "code",
   "execution_count": 3,
   "id": "f3bd8fcb",
   "metadata": {},
   "outputs": [],
   "source": [
    "datagen=ImageDataGenerator(rescale=1/255.0,\n",
    "                          rotation_range=40,\n",
    "                          width_shift_range=0.2,\n",
    "                          height_shift_range=0.2,\n",
    "                          shear_range=0.1,\n",
    "                          zoom_range=0.1,\n",
    "                          horizontal_flip=True,\n",
    "                          fill_mode='nearest')\n",
    "TRAIN = 'F:/dataset/falciparum'\n",
    "#n_imgs = 104\n",
    "img_filenames = os.listdir(TRAIN)[:]\n",
    "img_filenames[:]\n",
    "image=[]\n",
    "for file_name in img_filenames:\n",
    "    img = load_img(TRAIN + '/' + file_name)\n",
    "    x=img_to_array(img)\n",
    "    x=x.reshape((1,)+x.shape)\n",
    "    i=0\n",
    "    for batch in datagen.flow(x,batch_size=1,save_to_dir='F:/dataset2/falciparum1',save_prefix='falci',save_format='png'):\n",
    "        i+=1\n",
    "        if i>10:\n",
    "            break\n"
   ]
  },
  {
   "cell_type": "code",
   "execution_count": 11,
   "id": "7f521810",
   "metadata": {},
   "outputs": [],
   "source": [
    "datagen=ImageDataGenerator(rescale=1/255.0,\n",
    "                          rotation_range=20,\n",
    "                          width_shift_range=0.2,\n",
    "                          height_shift_range=0.2,\n",
    "                          shear_range=0.2,\n",
    "                          zoom_range=0.2,\n",
    "                          horizontal_flip=True,\n",
    "                          fill_mode='nearest')\n",
    "TRAIN = 'F:/dataset/vivax'\n",
    "#n_imgs = 104\n",
    "img_filenames = os.listdir(TRAIN)[:]\n",
    "img_filenames[:]\n",
    "image=[]\n",
    "for file_name in img_filenames:\n",
    "    img = load_img(TRAIN + '/' + file_name)\n",
    "    x=img_to_array(img)\n",
    "    x=x.reshape((1,)+x.shape)\n",
    "    i=0\n",
    "    for batch in datagen.flow(x,batch_size=1,save_to_dir='E:/dataset2/vivax1',save_prefix='vivax',save_format='png'):\n",
    "        i+=1\n",
    "        if i>30:\n",
    "            break\n"
   ]
  },
  {
   "cell_type": "code",
   "execution_count": 12,
   "id": "456c13a0",
   "metadata": {},
   "outputs": [],
   "source": [
    "datagen=ImageDataGenerator(rescale=1/255.0,\n",
    "                          rotation_range=20,\n",
    "                          width_shift_range=0.2,\n",
    "                          height_shift_range=0.2,\n",
    "                          shear_range=0.2,\n",
    "                          zoom_range=0.2,\n",
    "                          horizontal_flip=True,\n",
    "                          fill_mode='nearest')\n",
    "TRAIN = 'F:/dataset/malarie'\n",
    "#n_imgs = 104\n",
    "img_filenames = os.listdir(TRAIN)[:]\n",
    "img_filenames[:]\n",
    "image=[]\n",
    "for file_name in img_filenames:\n",
    "    img = load_img(TRAIN + '/' + file_name)\n",
    "    x=img_to_array(img)\n",
    "    x=x.reshape((1,)+x.shape)\n",
    "    i=0\n",
    "    for batch in datagen.flow(x,batch_size=1,save_to_dir='E:/dataset2/malarie1',save_prefix='malarie',save_format='png'):\n",
    "        i+=1\n",
    "        if i>30:\n",
    "            break\n"
   ]
  },
  {
   "cell_type": "code",
   "execution_count": 13,
   "id": "6eac2ce4",
   "metadata": {},
   "outputs": [],
   "source": [
    "datagen=ImageDataGenerator(rescale=1/255.0,\n",
    "                          rotation_range=20,\n",
    "                          width_shift_range=0.2,\n",
    "                          height_shift_range=0.2,\n",
    "                          shear_range=0.2,\n",
    "                          zoom_range=0.2,\n",
    "                          horizontal_flip=True,\n",
    "                          fill_mode='nearest')\n",
    "TRAIN = 'F:/dataset/ovale'\n",
    "#n_imgs = 104\n",
    "img_filenames = os.listdir(TRAIN)[:]\n",
    "img_filenames[:]\n",
    "image=[]\n",
    "for file_name in img_filenames:\n",
    "    img = load_img(TRAIN + '/' + file_name)\n",
    "    x=img_to_array(img)\n",
    "    x=x.reshape((1,)+x.shape)\n",
    "    i=0\n",
    "    for batch in datagen.flow(x,batch_size=1,save_to_dir='E:/dataset2/ovale1',save_prefix='ovale',save_format='png'):\n",
    "        i+=1\n",
    "        if i>30:\n",
    "            break\n"
   ]
  },
  {
   "cell_type": "code",
   "execution_count": 25,
   "id": "53c21fb5",
   "metadata": {},
   "outputs": [],
   "source": [
    "datagen=ImageDataGenerator(rescale=1/255.0,\n",
    "                          rotation_range=20,\n",
    "                          width_shift_range=0.2,\n",
    "                          height_shift_range=0.2,\n",
    "                          shear_range=0.2,\n",
    "                          zoom_range=0.2,\n",
    "                          horizontal_flip=True,\n",
    "                          fill_mode='nearest')\n",
    "TRAIN = 'F:/dataset/falciparum'\n",
    "img_filenames = os.listdir(TRAIN)[:]\n",
    "img_filenames[:]\n",
    "image=[]\n",
    "for file_name in img_filenames:\n",
    "    img = load_img(TRAIN + '/' + file_name)\n",
    "    x=img_to_array(img)\n",
    "    x=x.reshape((1,)+x.shape)\n",
    "    i=0\n",
    "    for batch in datagen.flow(x,batch_size=1,save_to_dir='E:/imbalanced dataset/falciparum',save_prefix='falci',save_format='png'):\n",
    "        i+=1\n",
    "        if i>30:\n",
    "            break\n"
   ]
  },
  {
   "cell_type": "code",
   "execution_count": 4,
   "id": "8376a510",
   "metadata": {},
   "outputs": [],
   "source": [
    "datagen=ImageDataGenerator(rescale=1/255.0,\n",
    "                          rotation_range=40,\n",
    "                          width_shift_range=0.2,\n",
    "                          height_shift_range=0.2,\n",
    "                          shear_range=0.1,\n",
    "                          zoom_range=0.1,\n",
    "                          horizontal_flip=True,\n",
    "                          fill_mode='nearest')\n",
    "TRAIN = \"E:/project/original dataset/ovale\"\n",
    "img_filenames = os.listdir(TRAIN)[:]\n",
    "img_filenames[:]\n",
    "image=[]\n",
    "for file_name in img_filenames:\n",
    "    img = load_img(TRAIN + '/' + file_name)\n",
    "    x=img_to_array(img)\n",
    "    x=x.reshape((1,)+x.shape)\n",
    "    i=0\n",
    "    for batch in datagen.flow(x,batch_size=1,save_to_dir= \"E:/project/balanced dataset/ovale1\",save_prefix='ovale',save_format='png'):\n",
    "        i+=1\n",
    "        if i>38:\n",
    "            break\n"
   ]
  }
 ],
 "metadata": {
  "kernelspec": {
   "display_name": "Python 3 (ipykernel)",
   "language": "python",
   "name": "python3"
  },
  "language_info": {
   "codemirror_mode": {
    "name": "ipython",
    "version": 3
   },
   "file_extension": ".py",
   "mimetype": "text/x-python",
   "name": "python",
   "nbconvert_exporter": "python",
   "pygments_lexer": "ipython3",
   "version": "3.11.5"
  }
 },
 "nbformat": 4,
 "nbformat_minor": 5
}
