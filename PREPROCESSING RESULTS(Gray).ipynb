{
 "cells": [
  {
   "cell_type": "code",
   "execution_count": 1,
   "id": "871ee88e",
   "metadata": {},
   "outputs": [],
   "source": [
    "import cv2\n",
    "import os\n",
    "import numpy as np"
   ]
  },
  {
   "cell_type": "code",
   "execution_count": 2,
   "id": "2e6f6f16",
   "metadata": {},
   "outputs": [],
   "source": [
    "def preprocess_image(image,width,height):\n",
    "\n",
    "    # Normalize the image\n",
    "    normalized_image = normalize_image(image)\n",
    "\n",
    "    # Resize the image\n",
    "    resized_image = cv2.resize(normalized_image, (width, height))\n",
    "    \n",
    "    # Apply edge detection\n",
    "    edges = cv2.Canny(resized_image, 100, 200)\n",
    "\n",
    "    # Enhance contrast\n",
    "    enhanced_image = cv2.equalizeHist(resized_image)\n",
    "\n",
    "    return enhanced_image\n",
    "\n",
    "def normalize_image(image):\n",
    "    # Convert image to grayscale\n",
    "    gray_image = cv2.cvtColor(image, cv2.COLOR_BGR2GRAY)\n",
    "    \n",
    "    # Normalize the image\n",
    "    normalized_image = cv2.normalize(gray_image, None, alpha=0, beta=255, norm_type=cv2.NORM_MINMAX)\n",
    "\n",
    "    return normalized_image\n"
   ]
  },
  {
   "cell_type": "code",
   "execution_count": 3,
   "id": "955f98ee",
   "metadata": {},
   "outputs": [],
   "source": [
    "width=256\n",
    "height=256"
   ]
  },
  {
   "cell_type": "code",
   "execution_count": 4,
   "id": "09b5375e",
   "metadata": {},
   "outputs": [],
   "source": [
    "input_folder = \"E:\\\\project\\\\balanced dataset\\\\falciparum1\"\n",
    "output_folder = \"E:\\\\project\\\\Preprocessed dataset\\\\Falciparum 2\"\n",
    "\n",
    "# Iterate through each image in the input folder\n",
    "for filename in os.listdir(input_folder):\n",
    "        # Read the image\n",
    "        image = cv2.imread(os.path.join(input_folder, filename))\n",
    "        \n",
    "        # Preprocess the image\n",
    "        preprocessed_image = preprocess_image(image,width,height)\n",
    "        \n",
    "        # Save the preprocessed image to the output folder\n",
    "        output_path = os.path.join(output_folder, filename)\n",
    "        cv2.imwrite(output_path, preprocessed_image)"
   ]
  },
  {
   "cell_type": "code",
   "execution_count": 5,
   "id": "080dd2a0",
   "metadata": {},
   "outputs": [],
   "source": [
    "input_folder = \"E:\\\\project\\\\balanced dataset\\\\malarie1\"\n",
    "output_folder = \"E:\\\\project\\\\Preprocessed dataset\\\\Malarie 2\"\n",
    "\n",
    "\n",
    "# Iterate through each image in the input folder\n",
    "for filename in os.listdir(input_folder):\n",
    "        # Read the image\n",
    "        image = cv2.imread(os.path.join(input_folder, filename))\n",
    "        \n",
    "        # Preprocess the image\n",
    "        preprocessed_image = preprocess_image(image,width,height)\n",
    "        \n",
    "        # Save the preprocessed image to the output folder\n",
    "        output_path = os.path.join(output_folder, filename)\n",
    "        cv2.imwrite(output_path, preprocessed_image)"
   ]
  },
  {
   "cell_type": "code",
   "execution_count": 6,
   "id": "3120b32c",
   "metadata": {},
   "outputs": [],
   "source": [
    "input_folder = \"E:\\\\project\\\\balanced dataset\\\\vivax1\"\n",
    "output_folder = \"E:\\\\project\\\\Preprocessed dataset\\\\Vivax 2\"\n",
    "\n",
    "# Iterate through each image in the input folder\n",
    "for filename in os.listdir(input_folder):\n",
    "        # Read the image\n",
    "        image = cv2.imread(os.path.join(input_folder, filename))\n",
    "        \n",
    "        # Preprocess the image\n",
    "        preprocessed_image = preprocess_image(image,width,height)\n",
    "        \n",
    "        # Save the preprocessed image to the output folder\n",
    "        output_path = os.path.join(output_folder, filename)\n",
    "        cv2.imwrite(output_path, preprocessed_image)"
   ]
  },
  {
   "cell_type": "code",
   "execution_count": 7,
   "id": "a1a402a0",
   "metadata": {},
   "outputs": [],
   "source": [
    "input_folder = \"E:\\\\project\\\\balanced dataset\\\\ovale1\"\n",
    "output_folder = \"E:\\\\project\\\\Preprocessed dataset\\\\Ovale 2\"\n",
    "\n",
    "# Iterate through each image in the input folder\n",
    "for filename in os.listdir(input_folder):\n",
    "        # Read the image\n",
    "        image = cv2.imread(os.path.join(input_folder, filename))\n",
    "        \n",
    "        # Preprocess the image\n",
    "        preprocessed_image = preprocess_image(image,width,height)\n",
    "        \n",
    "        # Save the preprocessed image to the output folder\n",
    "        output_path = os.path.join(output_folder, filename)\n",
    "        cv2.imwrite(output_path, preprocessed_image)"
   ]
  }
 ],
 "metadata": {
  "kernelspec": {
   "display_name": "Python 3 (ipykernel)",
   "language": "python",
   "name": "python3"
  },
  "language_info": {
   "codemirror_mode": {
    "name": "ipython",
    "version": 3
   },
   "file_extension": ".py",
   "mimetype": "text/x-python",
   "name": "python",
   "nbconvert_exporter": "python",
   "pygments_lexer": "ipython3",
   "version": "3.11.5"
  }
 },
 "nbformat": 4,
 "nbformat_minor": 5
}
